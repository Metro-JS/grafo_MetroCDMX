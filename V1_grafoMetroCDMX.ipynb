{
  "nbformat": 4,
  "nbformat_minor": 0,
  "metadata": {
    "colab": {
      "provenance": [],
      "authorship_tag": "ABX9TyOnyN5s3kqNaumzOoxw54Kr",
      "include_colab_link": true
    },
    "kernelspec": {
      "name": "python3",
      "display_name": "Python 3"
    },
    "language_info": {
      "name": "python"
    }
  },
  "cells": [
    {
      "cell_type": "markdown",
      "metadata": {
        "id": "view-in-github",
        "colab_type": "text"
      },
      "source": [
        "<a href=\"https://colab.research.google.com/github/Metro-JS/grafo_MetroCDMX/blob/main/V1_grafoMetroCDMX.ipynb\" target=\"_parent\"><img src=\"https://colab.research.google.com/assets/colab-badge.svg\" alt=\"Open In Colab\"/></a>"
      ]
    },
    {
      "cell_type": "markdown",
      "source": [
        "Prueba - Version 1\n",
        "\n",
        "Redes y grafos para el estudio y creación de rutas en la red del Sistema de Transporte Colectivo de la Ciudad de México.\n",
        "\n",
        "Este proyecto consiste sencillamente en ver de otra manera la red del Metro, a través de un grafo.\n",
        "Este proyecto estudia las rutas que se pueden hacer de una estación a otra, con transbordos en cada estación.\n",
        "\n",
        "Por el momento este programa está limitado a que cada línea tiene una sola dirección.\n",
        "\n",
        "Ejecute cada celda de código. Cada estación está identificada con un código de tres letras."
      ],
      "metadata": {
        "id": "ug_NQ8oU6Bpn"
      }
    },
    {
      "cell_type": "code",
      "execution_count": null,
      "metadata": {
        "id": "AlLEI-0s54va"
      },
      "outputs": [],
      "source": [
        "import pandas as pd\n",
        "import networkx as nx\n",
        "from IPython.display import HTML\n",
        "import matplotlib.pyplot as plt\n",
        "%matplotlib inline"
      ]
    },
    {
      "cell_type": "code",
      "source": [
        "datos_nodo=pd.read_csv('codigosMetrocurado.csv')\n",
        "datos_nodo.head()"
      ],
      "metadata": {
        "id": "qEtP8l9z8Fn5"
      },
      "execution_count": null,
      "outputs": []
    },
    {
      "cell_type": "code",
      "source": [],
      "metadata": {
        "id": "_DPGBkkw8hrB"
      },
      "execution_count": null,
      "outputs": []
    }
  ]
}