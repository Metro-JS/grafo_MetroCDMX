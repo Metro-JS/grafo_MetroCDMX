{
  "nbformat": 4,
  "nbformat_minor": 0,
  "metadata": {
    "colab": {
      "provenance": []
    },
    "kernelspec": {
      "name": "python3",
      "display_name": "Python 3"
    },
    "language_info": {
      "name": "python"
    }
  },
  "cells": [
    {
      "cell_type": "markdown",
      "source": [
        "Prueba - Version 1\n",
        "\n",
        "Redes y grafos para el estudio y creación de rutas en la red del Sistema de Transporte Colectivo de la Ciudad de México.\n",
        "\n",
        "Este proyecto consiste sencillamente en ver de otra manera la red del Metro, a través de un grafo.\n",
        "Este proyecto estudia las rutas que se pueden hacer de una estación a otra, con transbordos en cada estación.\n",
        "\n",
        "Ejecute cada celda de código. Cada estación está identificada con un código de tres letras."
      ],
      "metadata": {
        "id": "ug_NQ8oU6Bpn"
      }
    },
    {
      "cell_type": "code",
      "execution_count": null,
      "metadata": {
        "id": "AlLEI-0s54va"
      },
      "outputs": [],
      "source": [
        "#@title Imports\n",
        "\n",
        "import pandas as pd\n",
        "import networkx as nx\n",
        "from IPython.display import HTML\n",
        "import matplotlib.pyplot as plt\n",
        "%matplotlib inline"
      ]
    },
    {
      "cell_type": "code",
      "source": [
        "#@title Lectura de todas las estaciones.\n",
        "\n",
        "datos_nodo=pd.read_csv('nodosMetro.csv')\n",
        "datos_nodo.head()"
      ],
      "metadata": {
        "id": "qEtP8l9z8Fn5"
      },
      "execution_count": null,
      "outputs": []
    },
    {
      "cell_type": "code",
      "source": [
        "#@title Asignacion y estandarizacion de la cabeza de la tabla\n",
        "datos_nodo.set_index([\"ID\"],inplace=True)\n",
        "datos_nodo.head()"
      ],
      "metadata": {
        "id": "_DPGBkkw8hrB"
      },
      "execution_count": null,
      "outputs": []
    },
    {
      "cell_type": "code",
      "source": [
        "#@title Lectura de todas las conexiones entre estaciones\n",
        "rutas=pd.read_csv('nodosMetroPeso.csv')\n",
        "rutas.head()"
      ],
      "metadata": {
        "id": "zA_fpFuAG-Eq"
      },
      "execution_count": null,
      "outputs": []
    },
    {
      "cell_type": "code",
      "source": [
        "#@title Creación del grafo\n",
        "DG=nx.DiGraph()\n",
        "for filas in rutas.iterrows():#recorre fila por fila\n",
        "    DG.add_edge(filas[1][\"Origen\"],filas[1][\"Destino\"],peso=filas[1][\"Peso\"]) # se agrega un nodo\n",
        "DG.nodes(data=True)"
      ],
      "metadata": {
        "id": "b5_Vo_sXHKMP"
      },
      "execution_count": null,
      "outputs": []
    },
    {
      "cell_type": "markdown",
      "source": [
        "En esta sección se crea la representación del grafo."
      ],
      "metadata": {
        "id": "q9ldkD33IB77"
      }
    },
    {
      "cell_type": "code",
      "source": [
        "#@title Renderizado del grafo\n",
        "\n",
        "nx.draw_kamada_kawai(DG,node_color='lightblue',edge_color='lightgray',linewidths=0, font_family='ClearviewHwy',\n",
        "                font_size=2.5,arrows = False,with_labels=True, node_size=40)"
      ],
      "metadata": {
        "id": "O7CCni34IAXB"
      },
      "execution_count": null,
      "outputs": []
    },
    {
      "cell_type": "markdown",
      "source": [
        "A partir de este punto puede jugar con las rutas: origen, destino y puntos por los que se pasa. Recuerde tener a la mano los IDs de cada estación."
      ],
      "metadata": {
        "id": "I5UgqvknIbEF"
      }
    },
    {
      "cell_type": "code",
      "source": [
        "#@title Todas las rutas de la estación A a B\n",
        "list(nx.all_shortest_paths(DG,source=\"CNT\", target=\"AUT\",weight=None))"
      ],
      "metadata": {
        "id": "gdoMVs2FImIu"
      },
      "execution_count": null,
      "outputs": []
    },
    {
      "cell_type": "code",
      "source": [
        "#@title La ruta más corta de A a B, sin peso\n",
        "list(nx.dijkstra_path(DG,source=\"CAZ\", target=\"CNT\",weight=None))"
      ],
      "metadata": {
        "id": "Fed93_C6IwPs"
      },
      "execution_count": null,
      "outputs": []
    },
    {
      "cell_type": "code",
      "source": [
        "#@title La ruta más corta de A a B considerando el peso\n",
        "list(nx.dijkstra_path(DG,source=\"A\", target=\"B\",weight=\"peso\"))"
      ],
      "metadata": {
        "id": "6VWgVbWjI7eF"
      },
      "execution_count": null,
      "outputs": []
    },
    {
      "cell_type": "code",
      "source": [
        "#@title Consulta de un ID al nombre de estación\n",
        "datos_nodo.loc['BDM']['Estacion']"
      ],
      "metadata": {
        "id": "hzZkPFclJHiJ"
      },
      "execution_count": null,
      "outputs": []
    },
    {
      "cell_type": "markdown",
      "source": [
        "En esta celda puede ingresar un ID para obtener su nombre"
      ],
      "metadata": {
        "id": "HjAQWxVxKa_2"
      }
    },
    {
      "cell_type": "code",
      "source": [
        "#@title Definicion de la función RUTA\n",
        "def ruta(ruta):\n",
        "    total_peso=0\n",
        "    for i in range(len(ruta)-1):\n",
        "        origen=ruta[i]\n",
        "        destino=ruta[i+1]\n",
        "        peso=DG[origen][destino][\"peso\"]\n",
        "        total_peso=total_peso+peso\n",
        "        print(\" %s->%s\\n Peso: %s \" %\n",
        "              (datos_nodo.loc[origen]['Estacion'],\n",
        "               datos_nodo.loc[destino]['Estacion'],peso))\n",
        "    print(\"\\n Peso total=%s\"%(total_peso))"
      ],
      "metadata": {
        "id": "FBL3C7wnKaNc"
      },
      "execution_count": null,
      "outputs": []
    },
    {
      "cell_type": "markdown",
      "source": [
        "Una vez ejecutada la celda anteror, puede ingresar en la siguiente celda una lista de estaciones (ID), y esta función le regresará el peso por cada estación recorrida.\n",
        "\n",
        "Puede ingresar alguna ruta que alguna de las celdas anteriores le haya dado como resultado, o en su defecto, puede ingresar una lista de estaciones con las que desea hacer su recorrido.\n",
        "\n",
        "En vista de que por el momento no hay pesos relevantes entre estaciones, esta función es ociosa."
      ],
      "metadata": {
        "id": "4w8bXMDkK9c2"
      }
    },
    {
      "cell_type": "code",
      "source": [
        "#@title ¿Cuánto gasta mi ruta?\n",
        "ruta(['CAZ',\n",
        " 'PLA',\n",
        " 'OLI',\n",
        " 'ECA',\n",
        " 'MUZ',\n",
        " 'RIO',\n",
        " 'IMP',\n",
        " 'NEZ',\n",
        " 'VAR',\n",
        " 'BOS',\n",
        " 'DEO',\n",
        " 'OCE',\n",
        " 'ROM',\n",
        " 'RFL',\n",
        " 'SLA',\n",
        " 'CAN',\n",
        " 'FRA',\n",
        " 'JAM',\n",
        " 'SAN',\n",
        " 'CYU',\n",
        " 'IZC',\n",
        " 'APA',\n",
        " 'ACU',\n",
        " 'ESC',\n",
        " 'ATL',\n",
        " 'IZT',\n",
        " 'CDE',\n",
        " 'UAM',\n",
        " 'CNT'])"
      ],
      "metadata": {
        "id": "4kQfWkPXK8ow"
      },
      "execution_count": null,
      "outputs": []
    }
  ]
}